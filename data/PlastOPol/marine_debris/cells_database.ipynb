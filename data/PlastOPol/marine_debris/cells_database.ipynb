{
 "cells": [
  {
   "cell_type": "code",
   "execution_count": 14,
   "metadata": {},
   "outputs": [],
   "source": [
    "import pandas as pd\n",
    "import geopandas as gpd\n",
    "import json"
   ]
  },
  {
   "cell_type": "code",
   "execution_count": 15,
   "metadata": {},
   "outputs": [],
   "source": [
    "db = pd.read_csv(\"..\\database.csv\")\n",
    "rydde = db[931:17798]"
   ]
  },
  {
   "cell_type": "code",
   "execution_count": 16,
   "metadata": {},
   "outputs": [],
   "source": [
    "gdf = gpd.GeoDataFrame(rydde, geometry=gpd.points_from_xy(rydde.longitude, rydde.latitude))"
   ]
  },
  {
   "cell_type": "code",
   "execution_count": 17,
   "metadata": {},
   "outputs": [],
   "source": [
    "gdf.date = pd.to_datetime(gdf.date)"
   ]
  },
  {
   "cell_type": "code",
   "execution_count": 26,
   "metadata": {
    "scrolled": false
   },
   "outputs": [],
   "source": [
    "#Svinøya 30x30\n",
    "lat_min = 62.345252708439276\n",
    "lat_max = 62.61474729156072\n",
    "lng_min = 5.978375939307136\n",
    "lng_max = 6.561624060692863\n",
    "cell_rows, cell_columns = 16, 16"
   ]
  },
  {
   "cell_type": "code",
   "execution_count": 19,
   "metadata": {},
   "outputs": [],
   "source": [
    "def generateCells(lat_min, lng_min, lat_max, lng_max, cell_rows, cell_columns):\n",
    "    half_cell_height = (lat_max - lat_min) / (2 * (cell_rows - 1))\n",
    "    half_cell_width = (lng_max - lng_min) / (2 * (cell_columns - 1))\n",
    "    lat_point = lat_min\n",
    "    row_count = 0\n",
    "    cells = []\n",
    "    while (row_count < cell_rows):\n",
    "        lng_point = lng_min\n",
    "        column_count = 0\n",
    "        while (column_count < cell_columns):\n",
    "            lat_0 = lat_point - half_cell_height\n",
    "            lng_0 = lng_point - half_cell_width\n",
    "            lat_1 = lat_point + half_cell_height\n",
    "            lng_1 = lng_point + half_cell_width\n",
    "            cells.append({\"lng_min\":lng_0, \"lat_min\": lat_0, \"lat_max\":lat_1, \"lng_max\":lng_1})\n",
    "            lng_point += 2 * half_cell_width\n",
    "            column_count+=1\n",
    "        lat_point += 2 * half_cell_height\n",
    "        row_count+=1\n",
    "    return cells"
   ]
  },
  {
   "cell_type": "code",
   "execution_count": 20,
   "metadata": {
    "scrolled": true
   },
   "outputs": [],
   "source": [
    "cells = generateCells(lat_min, lng_min, lat_max, lng_max, cell_rows, cell_columns)"
   ]
  },
  {
   "cell_type": "code",
   "execution_count": 21,
   "metadata": {},
   "outputs": [],
   "source": [
    "pd.Series(json.dumps(cells)).to_csv(\"..\\cells.csv\")"
   ]
  },
  {
   "cell_type": "code",
   "execution_count": 22,
   "metadata": {},
   "outputs": [],
   "source": [
    "def getCellData(cell):\n",
    "        data = gdf.cx[cell[\"lng_min\"]: cell[\"lng_max\"], cell[\"lat_min\"] : cell[\"lat_max\"]]\n",
    "        return data"
   ]
  },
  {
   "cell_type": "code",
   "execution_count": 23,
   "metadata": {},
   "outputs": [],
   "source": [
    "def createBoundsDf(cells):\n",
    "    i = 0;\n",
    "    udf = pd.DataFrame(columns=[\"date\", \"boundsId\", \"weight\", \"quantity\"])\n",
    "    for cell in cells:\n",
    "        data = getCellData(cell)\n",
    "        newdf = pd.DataFrame(data)\n",
    "        newdf[\"boundsId\"] = i\n",
    "        newdf = newdf[[\"date\", \"boundsId\", \"weight\", \"quantity\"]]\n",
    "        udf = udf.append(newdf, ignore_index=True)\n",
    "        i+=1\n",
    "    return udf"
   ]
  },
  {
   "cell_type": "code",
   "execution_count": 24,
   "metadata": {},
   "outputs": [],
   "source": [
    "bdf = createBoundsDf(cells)"
   ]
  },
  {
   "cell_type": "code",
   "execution_count": 25,
   "metadata": {},
   "outputs": [],
   "source": [
    "bdf.to_csv(\"..\\cells_database.csv\")"
   ]
  }
 ],
 "metadata": {
  "kernelspec": {
   "display_name": "Python 3",
   "language": "python",
   "name": "python3"
  },
  "language_info": {
   "codemirror_mode": {
    "name": "ipython",
    "version": 3
   },
   "file_extension": ".py",
   "mimetype": "text/x-python",
   "name": "python",
   "nbconvert_exporter": "python",
   "pygments_lexer": "ipython3",
   "version": "3.8.5"
  }
 },
 "nbformat": 4,
 "nbformat_minor": 4
}
