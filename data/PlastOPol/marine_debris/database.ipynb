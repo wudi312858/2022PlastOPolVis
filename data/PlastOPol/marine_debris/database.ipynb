{
 "cells": [
  {
   "cell_type": "code",
   "execution_count": 42,
   "metadata": {},
   "outputs": [],
   "source": [
    "import pandas as pd\n",
    "import numpy as np\n",
    "from datetime import datetime"
   ]
  },
  {
   "cell_type": "code",
   "execution_count": 43,
   "metadata": {},
   "outputs": [],
   "source": [
    "current_date = datetime.now()\n",
    "current_date = current_date.replace(second=0, microsecond=0)"
   ]
  },
  {
   "cell_type": "code",
   "execution_count": 44,
   "metadata": {},
   "outputs": [],
   "source": [
    "# Corresponding columns for date, longitude, latitude, quantity(number), weight(kg)\n",
    "columns_output = [\"date\", \"latitude\", \"longitude\", \"quantity\", \"weight\" ]\n",
    "output_path = \"..\\database.csv\""
   ]
  },
  {
   "cell_type": "code",
   "execution_count": 45,
   "metadata": {},
   "outputs": [],
   "source": [
    "file_path = \"MDT Data_April 2020.csv\"\n",
    "\n",
    "columns_input = [\"dt\", \"longitude\", \"latitude\", \"quantity\", \"country\"]\n",
    "\n",
    "df = pd.read_csv(file_path, header=0, usecols=columns_input)\n",
    "\n",
    "df = df[df[\"country\"] == \"NO\"]\n",
    "df[\"weight\"] = np.nan\n",
    "\n",
    "df[\"date\"] = pd.to_datetime(df[\"dt\"])\n",
    "df[\"quantity\"] = pd.to_numeric(df[\"quantity\"])\n",
    "\n",
    "df[columns_output].to_csv(output_path)"
   ]
  },
  {
   "cell_type": "code",
   "execution_count": 46,
   "metadata": {},
   "outputs": [],
   "source": [
    "from pyproj import Proj\n",
    "from shapely import wkt\n",
    "\n",
    "def convert_wkt_to_gps(df):\n",
    "    # Create Proj object for coversion from EPSG:32633\n",
    "    myProj = Proj(\"+proj=utm +zone=33 +datum=WGS84 +units=m +no_defs\")\n",
    "\n",
    "    # Covert wkt string to shapely point object\n",
    "    df[\"geom_wkt\"] = df[\"geom_wkt\"].apply(wkt.loads)\n",
    "\n",
    "    longitude_points = df[\"geom_wkt\"].apply(lambda point: point.x)\n",
    "    latitude_points = df[\"geom_wkt\"].apply(lambda point: point.y)\n",
    "\n",
    "    df[\"longitude\"], df[\"latitude\"] = myProj(longitude_points.values, latitude_points.values, inverse=True)\n",
    "    \n",
    "    return df"
   ]
  },
  {
   "cell_type": "code",
   "execution_count": 47,
   "metadata": {},
   "outputs": [],
   "source": [
    "file_path = \"Rydde - Aksjoner med funn _Ny protokoll_.csv\"\n",
    "\n",
    "columns_input = [\"enddate\", \"geom_wkt\", \"kg_of_collected_waste\"]\n",
    "\n",
    "df = pd.read_csv(file_path, header=0, usecols=columns_input)\n",
    "\n",
    "df = df.rename(columns={\"kg_of_collected_waste\": \"weight\"})\n",
    "\n",
    "df[\"date\"] = pd.to_datetime(df[\"enddate\"], format=\"%d.%m.%Y %H:%M\")\n",
    "\n",
    "df.loc[df[\"date\"] > current_date, \"date\"] = current_date\n",
    "\n",
    "df[\"quantity\"] = np.nan\n",
    "\n",
    "convert_wkt_to_gps(df)\n",
    "\n",
    "df[columns_output].to_csv(output_path, mode=\"a\", header=False)"
   ]
  },
  {
   "cell_type": "code",
   "execution_count": 48,
   "metadata": {},
   "outputs": [],
   "source": [
    "file_path = \"Kopi av Rydde - Aksjoner med funn _Gammel protokoll_.csv\"\n",
    "\n",
    "columns_input = [\"enddate\", \"geom_wkt\", \"kg_of_collected_waste\"]\n",
    "\n",
    "df = pd.read_csv(file_path, header=0, usecols=columns_input)\n",
    "\n",
    "df = df.rename(columns={\"kg_of_collected_waste\": \"weight\"})\n",
    "\n",
    "df[\"date\"] = pd.to_datetime(df[\"enddate\"], format=\"%d.%m.%Y %H:%M\")\n",
    "\n",
    "df.loc[df[\"date\"] > current_date, \"date\"] = current_date\n",
    "\n",
    "df[\"quantity\"] = np.nan\n",
    "\n",
    "convert_wkt_to_gps(df)\n",
    "\n",
    "df[columns_output].to_csv(output_path, mode=\"a\", header=False)"
   ]
  },
  {
   "cell_type": "code",
   "execution_count": 49,
   "metadata": {},
   "outputs": [],
   "source": [
    "file_path = \"SALT MAP+Kvantesprang raw data COMPLETE.csv\"\n",
    "\n",
    "columns_input = [\"Sampling date\", \"latitude start\", \"longitude start\", \"TOTAL LITTER (#)\", \"TOTAL LITTER (g)\"]\n",
    "\n",
    "df = pd.read_csv(file_path, header=0, usecols=columns_input)\n",
    "\n",
    "df[\"date\"] = pd.to_datetime(df[\"Sampling date\"])\n",
    "\n",
    "df[\"weight\"] = pd.to_numeric(df[\"TOTAL LITTER (g)\"].str.replace(\",\",\"\"))/1000\n",
    "df[\"quantity\"] = pd.to_numeric(df[\"TOTAL LITTER (#)\"].str.replace(\",\",\"\"))\n",
    "\n",
    "df = df.rename(columns={\"latitude start\": \"latitude\"})\n",
    "df = df.rename(columns={\"longitude start\": \"longitude\"})\n",
    "\n",
    "df[columns_output].to_csv(output_path, mode=\"a\", header=False)"
   ]
  }
 ],
 "metadata": {
  "kernelspec": {
   "display_name": "Python 3",
   "language": "python",
   "name": "python3"
  },
  "language_info": {
   "codemirror_mode": {
    "name": "ipython",
    "version": 3
   },
   "file_extension": ".py",
   "mimetype": "text/x-python",
   "name": "python",
   "nbconvert_exporter": "python",
   "pygments_lexer": "ipython3",
   "version": "3.9.0"
  }
 },
 "nbformat": 4,
 "nbformat_minor": 4
}
